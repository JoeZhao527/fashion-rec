{
 "cells": [
  {
   "cell_type": "code",
   "execution_count": null,
   "metadata": {},
   "outputs": [],
   "source": [
    "Recommended item IDs: [592015001, 830754001, 908356001, 880008004, 612489001, 625532002, 578431002, 498737002, 699083005, 809119001, 746295004, 857345003]\n",
    "127.0.0.1 - - [30/Jul/2024 11:51:29] \"GET /api/items?customer_id=001cc0d386cd17259b4c18407e3c8303afc9762ea87557c718642f8c5004ae7a HTTP/1.1\" 200 -\n",
    "[721657001, 711711001, 653210011, 624251002, 658222006, 737747001, 707155003, 551379001, 713153001, 719336001, 713997016, 714486001]"
   ]
  }
 ],
 "metadata": {
  "kernelspec": {
   "display_name": "Python 3",
   "language": "python",
   "name": "python3"
  },
  "language_info": {
   "codemirror_mode": {
    "name": "ipython",
    "version": 3
   },
   "file_extension": ".py",
   "mimetype": "text/x-python",
   "name": "python",
   "nbconvert_exporter": "python",
   "pygments_lexer": "ipython3",
   "version": "3.12.2"
  },
  "orig_nbformat": 4
 },
 "nbformat": 4,
 "nbformat_minor": 2
}
