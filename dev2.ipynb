{
 "cells": [
  {
   "cell_type": "code",
   "execution_count": 1,
   "metadata": {},
   "outputs": [],
   "source": [
    "import pandas as pd\n",
    "import numpy as np\n",
    "import os\n",
    "from tqdm import tqdm\n",
    "import faiss\n",
    "from matplotlib import pyplot as plt\n",
    "\n",
    "from recommender.utils.data import (\n",
    "    filter_transactions,\n",
    "    filter_nan_age\n",
    ")\n",
    "\n",
    "from recommender.recall import (\n",
    "    ContentBased,\n",
    "    Item2VecModel,\n",
    "    popularity_recall,\n",
    "    postal_code_recall,\n",
    "    product_code_recall,\n",
    "    bought_together_recall,\n",
    "    user_collaborative_recall,\n",
    "    age_group_recall\n",
    ")\n",
    "\n",
    "from recommender.utils.evaluate import (\n",
    "    calculate_map_at_n, compute_metrics\n",
    ")"
   ]
  },
  {
   "cell_type": "markdown",
   "metadata": {},
   "source": [
    "# Resource Paths"
   ]
  },
  {
   "cell_type": "code",
   "execution_count": 2,
   "metadata": {},
   "outputs": [],
   "source": [
    "image_feature_path = \"./feature/dino_image_emb.npy\"\n",
    "text_feature_path = \"./feature/glove_text_emb.npy\"\n",
    "\n",
    "# image_cb_euclidean_path = \"./feature/image_cb_euclidean.npy\"\n",
    "# text_cb_euclidean_path = \"./feature/text_cb_euclidean.npy\"\n",
    "\n",
    "# image_cb_cosine_path = \"./feature/image_cb_cosine.npy\"\n",
    "# text_cb_cosine_path = \"./feature/text_cb_cosine.npy\"\n",
    "\n",
    "cb_cache_dir = \"./feature\"\n",
    "\n",
    "article_path = \"./dataset/articles.csv\"\n",
    "customer_path = \"./dataset/customers.csv\"\n",
    "fold_split_data_path = \"./dataset/split\""
   ]
  },
  {
   "cell_type": "markdown",
   "metadata": {},
   "source": [
    "# Image & Text Content-Based Pre-Computations "
   ]
  },
  {
   "cell_type": "code",
   "execution_count": 3,
   "metadata": {},
   "outputs": [],
   "source": [
    "content_based = ContentBased(\n",
    "    image_feature_path=image_feature_path,\n",
    "    text_feature_path=text_feature_path,\n",
    "    feature_cache_dir=cb_cache_dir\n",
    ")"
   ]
  },
  {
   "cell_type": "markdown",
   "metadata": {},
   "source": [
    "# Dataset Loading, Split and Filtering"
   ]
  },
  {
   "cell_type": "code",
   "execution_count": 4,
   "metadata": {},
   "outputs": [],
   "source": [
    "# Load item data\n",
    "articles = pd.read_csv(article_path)\n",
    "\n",
    "# Load user data\n",
    "customers = pd.read_csv(customer_path)\n",
    "\n",
    "# TODO: call data split script here\n",
    "# Load transcation data, splitted according to time\n",
    "fold_data = {}\n",
    "for _fold in os.listdir(fold_split_data_path):\n",
    "    if \"fold\" in _fold:\n",
    "        fold_data[_fold] = (\n",
    "            pd.read_csv(os.path.join(fold_split_data_path, _fold, \"train.csv\")),\n",
    "            pd.read_csv(os.path.join(fold_split_data_path, _fold, \"test.csv\"))\n",
    "        )\n",
    "\n",
    "        break"
   ]
  },
  {
   "cell_type": "code",
   "execution_count": 5,
   "metadata": {},
   "outputs": [
    {
     "name": "stdout",
     "output_type": "stream",
     "text": [
      "Condition 1 - Description: Users purchased more than 30 items in training set and more than 10 in testing set\n",
      "Condition 1 - Train: 1141 users, 60466 transactions, 13710 articles\n",
      "Condition 1 - Test: 1141 users, 21374 transactions, 6915 articles\n",
      "\n",
      "Condition 2 - Description: Users purchased more than 5 items but less than 20 items in training set and more than 10 in testing set\n",
      "Condition 2 - Train: 2459 users, 28762 transactions, 9761 articles\n",
      "Condition 2 - Test: 2459 users, 38085 transactions, 9403 articles\n",
      "\n",
      "Condition 3 - Description: Users did not make any purchase in training set, but purchased more than 10 items in testing set\n",
      "Condition 3 - Train: 0 users, 0 transactions, 0 articles\n",
      "Condition 3 - Test: 1856 users, 30674 transactions, 8195 articles\n",
      "\n",
      "Aggregated Info\n",
      "Train: 3600 users, 76715 transactions, 16366 articles\n",
      "Test: 5456 users, 74001 transactions, 13705 articles\n"
     ]
    }
   ],
   "source": [
    "train_df, test_df = fold_data['fold_3']\n",
    "train_df = content_based.filter_content(train_df, articles)\n",
    "train_df = filter_nan_age(train_df, customers)\n",
    "test_df = filter_nan_age(test_df, customers)\n",
    "\n",
    "train, (loyal_user_test, regular_user_test, new_user_test) = filter_transactions(train_df, test_df)"
   ]
  },
  {
   "cell_type": "code",
   "execution_count": 6,
   "metadata": {},
   "outputs": [],
   "source": [
    "recall_top_n = 100"
   ]
  },
  {
   "cell_type": "markdown",
   "metadata": {},
   "source": [
    "# Content Based Single Methods Comparison"
   ]
  },
  {
   "cell_type": "code",
   "execution_count": 7,
   "metadata": {},
   "outputs": [
    {
     "name": "stderr",
     "output_type": "stream",
     "text": [
      "Content-Based with image + euclidean: 100%|██████████| 3600/3600 [00:31<00:00, 113.71it/s]\n",
      "Content-Based with image + cosine: 100%|██████████| 3600/3600 [00:31<00:00, 114.20it/s]\n",
      "Content-Based with text + euclidean: 100%|██████████| 3600/3600 [00:29<00:00, 120.51it/s]\n",
      "Content-Based with text + cosine: 100%|██████████| 3600/3600 [00:26<00:00, 134.31it/s]\n"
     ]
    }
   ],
   "source": [
    "img_euclidean_recommend = content_based.recommend_items(train, media=\"image\", dist=\"euclidean\", N=recall_top_n)\n",
    "img_cosine_recommend = content_based.recommend_items(train, media=\"image\", dist=\"cosine\", N=recall_top_n)\n",
    "txt_euclidean_recommend = content_based.recommend_items(train, media=\"text\", dist=\"euclidean\", N=recall_top_n)\n",
    "txt_cosine_recommend = content_based.recommend_items(train, media=\"text\", dist=\"cosine\", N=recall_top_n)"
   ]
  },
  {
   "cell_type": "markdown",
   "metadata": {},
   "source": [
    "# Rule Filtering Methods Comparison"
   ]
  },
  {
   "cell_type": "code",
   "execution_count": 8,
   "metadata": {},
   "outputs": [],
   "source": [
    "import matplotlib.pyplot as plt\n",
    "\n",
    "def compare_recommendations(test_set, recommendations, metrics, top_n):\n",
    "    # Function to collect metrics for the recommendation on the test set\n",
    "    def collect_metrics(test_set, recommendations):\n",
    "        results = {}\n",
    "        for rec_name, recommendation in recommendations.items():\n",
    "            results[rec_name] = compute_metrics(recommendation, test_set, top_n=top_n)\n",
    "        return results\n",
    "\n",
    "    # Determine layout size based on the input\n",
    "    num_metrics = len(metrics)\n",
    "    \n",
    "    # Set a reasonable figure size dynamically\n",
    "    fig_width = 24  # Width suitable for one column of plots\n",
    "    fig_height = num_metrics * 3  # Adjust height based on the number of metrics\n",
    "\n",
    "    # Get the data\n",
    "    results = collect_metrics(test_set, recommendations)\n",
    "\n",
    "    # Create the plots\n",
    "    fig, axes = plt.subplots(nrows=num_metrics, ncols=1, figsize=(fig_width, fig_height), sharey='row')\n",
    "    fig.subplots_adjust(hspace=0.5, wspace=0.3)\n",
    "\n",
    "    if num_metrics == 1:\n",
    "        axes = [axes]  # Ensure axes are iterable even for a single metric\n",
    "\n",
    "    colors = [\n",
    "        '#1f77b4',  # blue\n",
    "        '#ff7f0e',  # orange\n",
    "        '#2ca02c',  # green\n",
    "        '#d62728',  # red\n",
    "        '#9467bd',  # purple\n",
    "        '#8c564b',  # brown\n",
    "        '#e377c2',  # pink\n",
    "        '#7f7f7f',  # gray\n",
    "        '#bcbd22',  # lime green\n",
    "        '#17becf',  # cyan\n",
    "        '#393b79',  # dark blue\n",
    "        '#9c9ede'   # lavender\n",
    "    ]\n",
    "\n",
    "    for i, metric in enumerate(metrics):\n",
    "        ax = axes[i]\n",
    "        rec_names = list(results.keys())\n",
    "        values = [results[rec][metric] for rec in rec_names]\n",
    "        ax.bar(rec_names, values, color=colors, alpha=0.8)\n",
    "        ax.set_title(f'{metric.capitalize()}')\n",
    "        ax.set_ylabel(metric.capitalize())\n",
    "        ax.grid(True)\n",
    "\n",
    "    plt.tight_layout()\n",
    "    plt.show()\n",
    "\n",
    "    return results"
   ]
  },
  {
   "cell_type": "code",
   "execution_count": 9,
   "metadata": {},
   "outputs": [],
   "source": [
    "purchase_count = popularity_recall(train=train)\n",
    "\n",
    "popularity_all = {\n",
    "    cid: purchase_count['article_id']\n",
    "    for cid in train['customer_id'].unique()\n",
    "}"
   ]
  },
  {
   "cell_type": "code",
   "execution_count": 10,
   "metadata": {},
   "outputs": [
    {
     "name": "stderr",
     "output_type": "stream",
     "text": [
      "product_code recall: 100%|██████████| 3600/3600 [00:00<00:00, 7953.80it/s]\n"
     ]
    }
   ],
   "source": [
    "product_code_res = product_code_recall(\n",
    "    train=train,\n",
    "    articles=articles,\n",
    "    purchase_count=purchase_count\n",
    ")\n",
    "\n",
    "product_code_recommend = {\n",
    "    cid: product_code_res[cid]['article_id']\n",
    "    for cid in train['customer_id'].unique()\n",
    "}"
   ]
  },
  {
   "cell_type": "code",
   "execution_count": 11,
   "metadata": {},
   "outputs": [],
   "source": [
    "postal_code_res, customers_postal_code_map = postal_code_recall(\n",
    "    train=train,\n",
    "    customers=customers,\n",
    "    purchase_count=purchase_count\n",
    ")\n",
    "\n",
    "postal_code_recommend = {\n",
    "    cid: list(postal_code_res[customers_postal_code_map[cid]][:recall_top_n]['article_id'])\n",
    "    for cid in train['customer_id'].unique()\n",
    "}"
   ]
  },
  {
   "cell_type": "code",
   "execution_count": 12,
   "metadata": {},
   "outputs": [],
   "source": [
    "age_group_res, customers_age_group_map = age_group_recall(\n",
    "    train=train,\n",
    "    customers=customers,\n",
    "    purchase_count=purchase_count\n",
    ")\n",
    "\n",
    "age_group_recommend = {\n",
    "    cid: list(age_group_res[customers_age_group_map[cid]][:recall_top_n]['article_id'])\n",
    "    for cid in train['customer_id'].unique()\n",
    "}"
   ]
  },
  {
   "cell_type": "code",
   "execution_count": 13,
   "metadata": {},
   "outputs": [
    {
     "name": "stderr",
     "output_type": "stream",
     "text": [
      "bought together recall: 100%|██████████| 3600/3600 [00:13<00:00, 274.91it/s]\n"
     ]
    }
   ],
   "source": [
    "bought_together_res = bought_together_recall(train=train)\n",
    "\n",
    "bought_together_recommend = {\n",
    "    cid: bought_together_res[cid]['article_id']\n",
    "    for cid in train['customer_id'].unique()\n",
    "}"
   ]
  },
  {
   "cell_type": "markdown",
   "metadata": {},
   "source": [
    "# Matrix Factorization Hyper-parameters tuning"
   ]
  },
  {
   "cell_type": "code",
   "execution_count": 14,
   "metadata": {},
   "outputs": [
    {
     "name": "stdout",
     "output_type": "stream",
     "text": [
      "Start matrix factorization:\n"
     ]
    },
    {
     "name": "stderr",
     "output_type": "stream",
     "text": [
      "100%|██████████| 15/15 [00:00<00:00, 16.93it/s]\n"
     ]
    },
    {
     "name": "stdout",
     "output_type": "stream",
     "text": [
      "Start matrix factorization:\n"
     ]
    },
    {
     "name": "stderr",
     "output_type": "stream",
     "text": [
      "100%|██████████| 15/15 [00:01<00:00, 10.49it/s]\n"
     ]
    },
    {
     "name": "stdout",
     "output_type": "stream",
     "text": [
      "Start matrix factorization:\n"
     ]
    },
    {
     "name": "stderr",
     "output_type": "stream",
     "text": [
      "100%|██████████| 15/15 [00:01<00:00,  7.93it/s]\n"
     ]
    },
    {
     "name": "stdout",
     "output_type": "stream",
     "text": [
      "Start matrix factorization:\n"
     ]
    },
    {
     "name": "stderr",
     "output_type": "stream",
     "text": [
      "100%|██████████| 15/15 [00:01<00:00,  9.22it/s]\n"
     ]
    },
    {
     "name": "stdout",
     "output_type": "stream",
     "text": [
      "Start matrix factorization:\n"
     ]
    },
    {
     "name": "stderr",
     "output_type": "stream",
     "text": [
      "100%|██████████| 15/15 [00:02<00:00,  5.63it/s]\n"
     ]
    },
    {
     "name": "stdout",
     "output_type": "stream",
     "text": [
      "Start matrix factorization:\n"
     ]
    },
    {
     "name": "stderr",
     "output_type": "stream",
     "text": [
      "100%|██████████| 15/15 [00:03<00:00,  4.03it/s]\n"
     ]
    },
    {
     "name": "stdout",
     "output_type": "stream",
     "text": [
      "Start matrix factorization:\n"
     ]
    },
    {
     "name": "stderr",
     "output_type": "stream",
     "text": [
      "100%|██████████| 15/15 [00:01<00:00,  9.48it/s]\n"
     ]
    },
    {
     "name": "stdout",
     "output_type": "stream",
     "text": [
      "Start matrix factorization:\n"
     ]
    },
    {
     "name": "stderr",
     "output_type": "stream",
     "text": [
      "100%|██████████| 15/15 [00:01<00:00,  9.60it/s]\n"
     ]
    },
    {
     "name": "stdout",
     "output_type": "stream",
     "text": [
      "Start matrix factorization:\n"
     ]
    },
    {
     "name": "stderr",
     "output_type": "stream",
     "text": [
      "100%|██████████| 15/15 [00:01<00:00,  8.36it/s]\n"
     ]
    },
    {
     "name": "stdout",
     "output_type": "stream",
     "text": [
      "Start matrix factorization:\n"
     ]
    },
    {
     "name": "stderr",
     "output_type": "stream",
     "text": [
      "100%|██████████| 15/15 [00:01<00:00,  9.25it/s]\n"
     ]
    },
    {
     "name": "stdout",
     "output_type": "stream",
     "text": [
      "Start matrix factorization:\n"
     ]
    },
    {
     "name": "stderr",
     "output_type": "stream",
     "text": [
      "100%|██████████| 15/15 [00:01<00:00,  9.61it/s]\n"
     ]
    },
    {
     "name": "stdout",
     "output_type": "stream",
     "text": [
      "Start matrix factorization:\n"
     ]
    },
    {
     "name": "stderr",
     "output_type": "stream",
     "text": [
      "100%|██████████| 15/15 [00:01<00:00,  9.46it/s]\n"
     ]
    },
    {
     "name": "stdout",
     "output_type": "stream",
     "text": [
      "Start matrix factorization:\n"
     ]
    },
    {
     "name": "stderr",
     "output_type": "stream",
     "text": [
      "100%|██████████| 15/15 [00:01<00:00, 10.11it/s]\n"
     ]
    },
    {
     "name": "stdout",
     "output_type": "stream",
     "text": [
      "Start matrix factorization:\n"
     ]
    },
    {
     "name": "stderr",
     "output_type": "stream",
     "text": [
      "100%|██████████| 30/30 [00:02<00:00, 10.32it/s]\n"
     ]
    },
    {
     "name": "stdout",
     "output_type": "stream",
     "text": [
      "Start matrix factorization:\n"
     ]
    },
    {
     "name": "stderr",
     "output_type": "stream",
     "text": [
      "100%|██████████| 45/45 [00:04<00:00, 10.36it/s]\n"
     ]
    },
    {
     "name": "stdout",
     "output_type": "stream",
     "text": [
      "Start matrix factorization:\n"
     ]
    },
    {
     "name": "stderr",
     "output_type": "stream",
     "text": [
      "100%|██████████| 60/60 [00:05<00:00, 10.13it/s]\n"
     ]
    },
    {
     "name": "stdout",
     "output_type": "stream",
     "text": [
      "Start matrix factorization:\n"
     ]
    },
    {
     "name": "stderr",
     "output_type": "stream",
     "text": [
      "100%|██████████| 75/75 [00:07<00:00, 10.38it/s]\n"
     ]
    }
   ],
   "source": [
    "test_sets = pd.concat([loyal_user_test, regular_user_test])\n",
    "\n",
    "mf_grid_search = {\n",
    "    \"factors\": [25, 50, 75, 100, 125, 150],\n",
    "    \"alpha\": [0.5, 1.0, 1.5, 2.0, 2.5, 3.0],\n",
    "    \"iterations\": [15, 30, 45, 60, 75]\n",
    "}\n",
    "\n",
    "mf_hparams_res = {}\n",
    "for k, options in mf_grid_search.items():\n",
    "    mf_hparams_res[k] = {}\n",
    "    for opt in options:\n",
    "        user_cf_res = user_collaborative_recall(\n",
    "            train=train,\n",
    "            top_N=recall_top_n,\n",
    "            model_cfg={k: opt, 'random_state': 42}\n",
    "        )\n",
    "        mf_hparams_res[k][opt] = compute_metrics(user_cf_res, test_sets, recall_top_n)"
   ]
  },
  {
   "cell_type": "code",
   "execution_count": 15,
   "metadata": {},
   "outputs": [
    {
     "data": {
      "image/png": "[encoded data removed]",
      "text/plain": [
       "<Figure size 1200x400 with 3 Axes>"
      ]
     },
     "metadata": {},
     "output_type": "display_data"
    }
   ],
   "source": [
    "fig, axs = plt.subplots(1, 3, figsize=(12, 4), sharey=True)\n",
    "\n",
    "for i, (k, hparams_res) in enumerate(mf_hparams_res.items()):\n",
    "    # Extracting keys and precision values\n",
    "    keys = list(hparams_res.keys())\n",
    "    precision_values = [hparams_res[key]['precision'] for key in keys]\n",
    "\n",
    "    ax = axs[i]\n",
    "    ax.plot(keys, precision_values, marker='o', linestyle='-')\n",
    "    ax.set_title('Precision Trend')\n",
    "    ax.set_xlabel(f'{k}')\n",
    "    ax.set_ylabel('Precision')\n",
    "    ax.grid(True)\n",
    "    ax.set_xticks(keys)  # Ensure all keys are marked on x-axis\n",
    "\n",
    "plt.tight_layout()\n",
    "plt.show()"
   ]
  },
  {
   "cell_type": "code",
   "execution_count": 16,
   "metadata": {},
   "outputs": [
    {
     "name": "stdout",
     "output_type": "stream",
     "text": [
      "Start matrix factorization:\n"
     ]
    },
    {
     "name": "stderr",
     "output_type": "stream",
     "text": [
      "100%|██████████| 15/15 [00:01<00:00, 11.31it/s]\n"
     ]
    }
   ],
   "source": [
    "user_cf_recommend = user_collaborative_recall(\n",
    "    train=train,\n",
    "    top_N=recall_top_n,\n",
    "    model_cfg={\n",
    "        'factors': 50,\n",
    "        'alpha': 2.5,\n",
    "        'iterations': 15,\n",
    "        'random_state': 42\n",
    "    }\n",
    ")"
   ]
  },
  {
   "cell_type": "markdown",
   "metadata": {},
   "source": [
    "# Item2Vec Model Hyper-parameter Tuning"
   ]
  },
  {
   "cell_type": "code",
   "execution_count": 17,
   "metadata": {},
   "outputs": [
    {
     "name": "stderr",
     "output_type": "stream",
     "text": [
      "item2vec data prepare: 100%|██████████| 3600/3600 [00:00<00:00, 20173.38it/s]\n",
      "Aggregating Recommendations: 100%|██████████| 3600/3600 [00:01<00:00, 2487.43it/s]\n",
      "item2vec similarity computation (cpu): 100%|██████████| 4511/4511 [00:00<00:00, 11049.31it/s]\n",
      "item2vec data prepare: 100%|██████████| 3600/3600 [00:00<00:00, 19502.47it/s]\n",
      "Aggregating Recommendations: 100%|██████████| 3600/3600 [00:01<00:00, 2259.05it/s]\n",
      "item2vec similarity computation (cpu): 100%|██████████| 4511/4511 [00:01<00:00, 4485.13it/s]\n",
      "item2vec data prepare: 100%|██████████| 3600/3600 [00:00<00:00, 20164.90it/s]\n",
      "Aggregating Recommendations: 100%|██████████| 3600/3600 [00:01<00:00, 2220.28it/s]\n",
      "item2vec similarity computation (cpu): 100%|██████████| 4511/4511 [00:01<00:00, 3746.87it/s]\n",
      "item2vec data prepare: 100%|██████████| 3600/3600 [00:00<00:00, 20065.11it/s]\n",
      "Aggregating Recommendations: 100%|██████████| 3600/3600 [00:01<00:00, 1997.63it/s]\n",
      "item2vec similarity computation (cpu): 100%|██████████| 4511/4511 [00:01<00:00, 2821.97it/s]\n",
      "item2vec data prepare: 100%|██████████| 3600/3600 [00:00<00:00, 19842.48it/s]\n",
      "Aggregating Recommendations: 100%|██████████| 3600/3600 [00:01<00:00, 2131.82it/s]\n",
      "item2vec similarity computation (cpu): 100%|██████████| 4511/4511 [00:02<00:00, 2242.97it/s]\n",
      "item2vec data prepare: 100%|██████████| 3600/3600 [00:00<00:00, 20264.43it/s]\n",
      "Aggregating Recommendations: 100%|██████████| 3600/3600 [00:01<00:00, 2260.24it/s]\n",
      "item2vec similarity computation (cpu): 100%|██████████| 4511/4511 [00:00<00:00, 5587.53it/s]\n",
      "item2vec data prepare: 100%|██████████| 3600/3600 [00:00<00:00, 19852.76it/s]\n",
      "Aggregating Recommendations: 100%|██████████| 3600/3600 [00:01<00:00, 2241.90it/s]\n",
      "item2vec similarity computation (cpu): 100%|██████████| 4511/4511 [00:00<00:00, 5550.46it/s]\n",
      "item2vec data prepare: 100%|██████████| 3600/3600 [00:00<00:00, 20252.47it/s]\n",
      "Aggregating Recommendations: 100%|██████████| 3600/3600 [00:01<00:00, 1983.79it/s]\n",
      "item2vec similarity computation (cpu): 100%|██████████| 4511/4511 [00:00<00:00, 5648.30it/s]\n",
      "item2vec data prepare: 100%|██████████| 3600/3600 [00:00<00:00, 19857.04it/s]\n",
      "Aggregating Recommendations: 100%|██████████| 3600/3600 [00:00<00:00, 4647.59it/s]\n",
      "item2vec similarity computation (cpu): 100%|██████████| 4511/4511 [00:00<00:00, 5516.34it/s]\n",
      "item2vec data prepare: 100%|██████████| 3600/3600 [00:00<00:00, 19832.21it/s]\n",
      "Aggregating Recommendations: 100%|██████████| 3600/3600 [00:01<00:00, 2275.95it/s]\n",
      "item2vec similarity computation (cpu): 100%|██████████| 4511/4511 [00:00<00:00, 4779.06it/s]\n",
      "item2vec data prepare: 100%|██████████| 3600/3600 [00:00<00:00, 19316.18it/s]\n",
      "Aggregating Recommendations: 100%|██████████| 3600/3600 [00:01<00:00, 2285.17it/s]\n",
      "item2vec similarity computation (cpu): 100%|██████████| 4511/4511 [00:00<00:00, 5629.94it/s]\n",
      "item2vec data prepare: 100%|██████████| 3600/3600 [00:00<00:00, 19340.28it/s]\n",
      "Aggregating Recommendations: 100%|██████████| 3600/3600 [00:00<00:00, 3999.52it/s]\n",
      "item2vec similarity computation (cpu): 100%|██████████| 4511/4511 [00:00<00:00, 5701.22it/s]\n",
      "item2vec data prepare: 100%|██████████| 3600/3600 [00:00<00:00, 19625.41it/s]\n",
      "Aggregating Recommendations: 100%|██████████| 3600/3600 [00:00<00:00, 4447.21it/s]\n",
      "item2vec similarity computation (cpu): 100%|██████████| 4511/4511 [00:00<00:00, 5696.93it/s]\n",
      "item2vec data prepare: 100%|██████████| 3600/3600 [00:00<00:00, 19699.15it/s]\n",
      "Aggregating Recommendations: 100%|██████████| 3600/3600 [00:00<00:00, 4569.18it/s]\n",
      "item2vec similarity computation (cpu): 100%|██████████| 4511/4511 [00:00<00:00, 5691.27it/s]\n",
      "item2vec data prepare: 100%|██████████| 3600/3600 [00:00<00:00, 18705.48it/s]\n",
      "Aggregating Recommendations: 100%|██████████| 3600/3600 [00:00<00:00, 4604.26it/s]\n",
      "item2vec similarity computation (cpu): 100%|██████████| 4511/4511 [00:00<00:00, 5470.10it/s]\n",
      "item2vec data prepare: 100%|██████████| 3600/3600 [00:00<00:00, 17813.76it/s]\n",
      "Aggregating Recommendations: 100%|██████████| 3600/3600 [00:01<00:00, 2026.73it/s]\n",
      "item2vec similarity computation (cpu): 100%|██████████| 4511/4511 [00:00<00:00, 5643.75it/s]\n",
      "item2vec data prepare: 100%|██████████| 3600/3600 [00:00<00:00, 19188.46it/s]\n",
      "Aggregating Recommendations: 100%|██████████| 3600/3600 [00:01<00:00, 2293.22it/s]\n",
      "item2vec similarity computation (cpu): 100%|██████████| 4511/4511 [00:00<00:00, 5630.32it/s]\n",
      "item2vec data prepare: 100%|██████████| 3600/3600 [00:00<00:00, 19408.27it/s]\n",
      "Aggregating Recommendations: 100%|██████████| 3600/3600 [00:01<00:00, 2046.16it/s]\n",
      "item2vec similarity computation (cpu): 100%|██████████| 4511/4511 [00:00<00:00, 5642.82it/s]\n",
      "item2vec data prepare: 100%|██████████| 3600/3600 [00:00<00:00, 19799.84it/s]\n",
      "Aggregating Recommendations: 100%|██████████| 3600/3600 [00:01<00:00, 2361.93it/s]\n",
      "item2vec similarity computation (cpu): 100%|██████████| 4511/4511 [00:00<00:00, 5678.01it/s]\n"
     ]
    }
   ],
   "source": [
    "test_sets = pd.concat([loyal_user_test, regular_user_test])\n",
    "\n",
    "i2v_default = {\n",
    "    \"window\": 9999,\n",
    "    \"seed\": 42,\n",
    "}\n",
    "i2v_grid_search = {\n",
    "    \"vector_size\": [50, 100, 150, 200, 250],\n",
    "    \"sample\": [1.e-2, 1.e-3, 1.e-4, 1.e-5],\n",
    "    \"epochs\": [5, 10, 15, 20, 25],\n",
    "    \"negative\": [1, 5, 10, 15, 20]\n",
    "}\n",
    "\n",
    "i2v_hparams_pop_res = {}\n",
    "i2v_hparams_sim_res = {}\n",
    "\n",
    "for k, options in i2v_grid_search.items():\n",
    "    i2v_hparams_pop_res[k] = {}\n",
    "    i2v_hparams_sim_res[k] = {}\n",
    "    for opt in options:\n",
    "        cfg = i2v_default.copy()\n",
    "        cfg.update({k: opt})\n",
    "        i2v_model = Item2VecModel(\n",
    "            train=train,\n",
    "            top_N=recall_top_n,\n",
    "            articles=articles,\n",
    "            model_cfg=cfg\n",
    "        )\n",
    "        i2v_hparams_pop_res[k][opt] = compute_metrics(i2v_model.cluster_recall(), test_sets, recall_top_n)\n",
    "        i2v_hparams_sim_res[k][opt] = compute_metrics(i2v_model.similarity_recall(), test_sets, recall_top_n)"
   ]
  },
  {
   "cell_type": "code",
   "execution_count": 18,
   "metadata": {},
   "outputs": [
    {
     "data": {
      "image/png": "[encoded data removed]",
      "text/plain": [
       "<Figure size 1600x400 with 4 Axes>"
      ]
     },
     "metadata": {},
     "output_type": "display_data"
    }
   ],
   "source": [
    "fig, axs = plt.subplots(1, 4, figsize=(16, 4), sharey=True)\n",
    "\n",
    "for i, k in enumerate(i2v_hparams_sim_res):\n",
    "    # Extracting keys and precision values\n",
    "    keys = list(i2v_hparams_sim_res[k].keys())\n",
    "    sim_precision_values = [i2v_hparams_sim_res[k][key]['precision'] for key in keys]\n",
    "    pop_precision_values = [i2v_hparams_pop_res[k][key]['precision'] for key in keys]\n",
    "\n",
    "    if k == \"sample\":\n",
    "        keys = [np.log10(opt) for opt in keys]\n",
    "        k = \"sample (1 * 10^x)\"\n",
    "    ax = axs[i]\n",
    "    ax.plot(keys, sim_precision_values, marker='o', linestyle='-', label=\"user-item similarity\")\n",
    "    ax.plot(keys, pop_precision_values, marker='o', linestyle='-', label=\"user cluster popularity\")\n",
    "    ax.set_title('Precision Trend')\n",
    "    ax.set_xlabel(f'{k}')\n",
    "    ax.set_ylabel('Precision')\n",
    "    ax.grid(True)\n",
    "    ax.set_xticks(keys)  # Ensure all keys are marked on x-axis\n",
    "    ax.legend()\n",
    "    \n",
    "plt.tight_layout()\n",
    "plt.show()"
   ]
  },
  {
   "cell_type": "code",
   "execution_count": 19,
   "metadata": {},
   "outputs": [
    {
     "name": "stderr",
     "output_type": "stream",
     "text": [
      "item2vec data prepare: 100%|██████████| 3600/3600 [00:00<00:00, 9462.68it/s] \n"
     ]
    }
   ],
   "source": [
    "item2vec = Item2VecModel(\n",
    "    train=train,\n",
    "    articles=articles,\n",
    "    top_N=recall_top_n,\n",
    "    model_cfg={\n",
    "        \"window\": 9999,\n",
    "        \"seed\": 42,\n",
    "        \"vector_size\": 100,\n",
    "        \"sample\": 1.e-3,\n",
    "        \"epochs\": 10,\n",
    "        \"negative\": 5\n",
    "    }\n",
    ")"
   ]
  },
  {
   "cell_type": "code",
   "execution_count": 20,
   "metadata": {},
   "outputs": [
    {
     "name": "stderr",
     "output_type": "stream",
     "text": [
      "Aggregating Recommendations: 100%|██████████| 3600/3600 [00:01<00:00, 2811.46it/s]\n",
      "item2vec similarity computation (cpu): 100%|██████████| 4511/4511 [00:00<00:00, 5574.52it/s]\n"
     ]
    }
   ],
   "source": [
    "item2vec_cls_res = item2vec.cluster_recall()\n",
    "item2vec_sim_res = item2vec.similarity_recall()"
   ]
  },
  {
   "cell_type": "code",
   "execution_count": 26,
   "metadata": {},
   "outputs": [
    {
     "data": {
      "image/png": "[encoded data removed]",
      "text/plain": [
       "<Figure size 2400x900 with 3 Axes>"
      ]
     },
     "metadata": {},
     "output_type": "display_data"
    }
   ],
   "source": [
    "# test_sets = {'Loyal User Test': loyal_user_test, 'Regular User Test': regular_user_test}\n",
    "test_sets = pd.concat([loyal_user_test, regular_user_test])\n",
    "\n",
    "recommendations = {\n",
    "    'Image\\n(Euclidean)': img_euclidean_recommend,\n",
    "    'Image\\n(Cosine)': img_cosine_recommend,\n",
    "    'Text\\n(Euclidean)': txt_euclidean_recommend,\n",
    "    'Text\\n(Cosine)': txt_cosine_recommend,\n",
    "    'Popularity\\n(All)': popularity_all,\n",
    "    'Popularity\\n(Product)': product_code_recommend,\n",
    "    'Popularity\\n(Region)': postal_code_recommend,\n",
    "    'Popularity\\n(Age)': age_group_recommend,\n",
    "    'Popularity\\n(Buy Together)': bought_together_recommend,\n",
    "    'Collaborative\\nFiltering': user_cf_recommend,\n",
    "    'Item2Vec\\n(Cluster Popular)': item2vec_cls_res,\n",
    "    'Item2Vec\\n(User-Item Similarity)': item2vec_sim_res,\n",
    "}\n",
    "metrics = ['precision', 'recall', 'map']\n",
    "\n",
    "eval_result = compare_recommendations(test_sets, recommendations, metrics, top_n=recall_top_n)"
   ]
  },
  {
   "cell_type": "code",
   "execution_count": 25,
   "metadata": {},
   "outputs": [
    {
     "data": {
      "text/html": [
       "<div>\n",
       "<style scoped>\n",
       "    .dataframe tbody tr th:only-of-type {\n",
       "        vertical-align: middle;\n",
       "    }\n",
       "\n",
       "    .dataframe tbody tr th {\n",
       "        vertical-align: top;\n",
       "    }\n",
       "\n",
       "    .dataframe thead th {\n",
       "        text-align: right;\n",
       "    }\n",
       "</style>\n",
       "<table border=\"1\" class=\"dataframe\">\n",
       "  <thead>\n",
       "    <tr style=\"text-align: right;\">\n",
       "      <th></th>\n",
       "      <th>purchased</th>\n",
       "      <th>hit_num</th>\n",
       "      <th>precision</th>\n",
       "      <th>recall</th>\n",
       "      <th>recall_num</th>\n",
       "      <th>map</th>\n",
       "    </tr>\n",
       "  </thead>\n",
       "  <tbody>\n",
       "    <tr>\n",
       "      <th>Image\\n(Euclidean)</th>\n",
       "      <td>16.516389</td>\n",
       "      <td>0.152778</td>\n",
       "      <td>0.001528</td>\n",
       "      <td>0.009773</td>\n",
       "      <td>100.000000</td>\n",
       "      <td>0.000907</td>\n",
       "    </tr>\n",
       "    <tr>\n",
       "      <th>Image\\n(Cosine)</th>\n",
       "      <td>16.516389</td>\n",
       "      <td>0.150556</td>\n",
       "      <td>0.001506</td>\n",
       "      <td>0.009670</td>\n",
       "      <td>100.000000</td>\n",
       "      <td>0.000887</td>\n",
       "    </tr>\n",
       "    <tr>\n",
       "      <th>Text\\n(Euclidean)</th>\n",
       "      <td>16.516389</td>\n",
       "      <td>0.223889</td>\n",
       "      <td>0.002239</td>\n",
       "      <td>0.014176</td>\n",
       "      <td>100.000000</td>\n",
       "      <td>0.002185</td>\n",
       "    </tr>\n",
       "    <tr>\n",
       "      <th>Text\\n(Cosine)</th>\n",
       "      <td>16.516389</td>\n",
       "      <td>0.217778</td>\n",
       "      <td>0.002178</td>\n",
       "      <td>0.013802</td>\n",
       "      <td>100.000000</td>\n",
       "      <td>0.002003</td>\n",
       "    </tr>\n",
       "    <tr>\n",
       "      <th>Popularity\\n(All)</th>\n",
       "      <td>16.516389</td>\n",
       "      <td>0.439444</td>\n",
       "      <td>0.004394</td>\n",
       "      <td>0.028276</td>\n",
       "      <td>100.000000</td>\n",
       "      <td>0.002719</td>\n",
       "    </tr>\n",
       "    <tr>\n",
       "      <th>Popularity\\n(Product)</th>\n",
       "      <td>16.516389</td>\n",
       "      <td>0.615000</td>\n",
       "      <td>0.012168</td>\n",
       "      <td>0.038638</td>\n",
       "      <td>53.585000</td>\n",
       "      <td>0.005695</td>\n",
       "    </tr>\n",
       "    <tr>\n",
       "      <th>Popularity\\n(Region)</th>\n",
       "      <td>16.516389</td>\n",
       "      <td>0.376944</td>\n",
       "      <td>0.019923</td>\n",
       "      <td>0.023074</td>\n",
       "      <td>20.876944</td>\n",
       "      <td>0.007122</td>\n",
       "    </tr>\n",
       "    <tr>\n",
       "      <th>Popularity\\n(Age)</th>\n",
       "      <td>16.516389</td>\n",
       "      <td>0.429444</td>\n",
       "      <td>0.004306</td>\n",
       "      <td>0.027656</td>\n",
       "      <td>99.962222</td>\n",
       "      <td>0.002764</td>\n",
       "    </tr>\n",
       "    <tr>\n",
       "      <th>Popularity\\n(Buy Together)</th>\n",
       "      <td>16.516389</td>\n",
       "      <td>0.405278</td>\n",
       "      <td>0.004053</td>\n",
       "      <td>0.025032</td>\n",
       "      <td>94.725000</td>\n",
       "      <td>0.000834</td>\n",
       "    </tr>\n",
       "    <tr>\n",
       "      <th>Collaborative\\nFiltering</th>\n",
       "      <td>16.516389</td>\n",
       "      <td>0.471944</td>\n",
       "      <td>0.004719</td>\n",
       "      <td>0.030160</td>\n",
       "      <td>100.000000</td>\n",
       "      <td>0.002763</td>\n",
       "    </tr>\n",
       "    <tr>\n",
       "      <th>Item2Vec\\n(Cluster Popular)</th>\n",
       "      <td>16.516389</td>\n",
       "      <td>0.681389</td>\n",
       "      <td>0.006814</td>\n",
       "      <td>0.042839</td>\n",
       "      <td>100.000000</td>\n",
       "      <td>0.004893</td>\n",
       "    </tr>\n",
       "    <tr>\n",
       "      <th>Item2Vec\\n(User-Item Similarity)</th>\n",
       "      <td>16.516389</td>\n",
       "      <td>0.316111</td>\n",
       "      <td>0.003161</td>\n",
       "      <td>0.020450</td>\n",
       "      <td>100.000000</td>\n",
       "      <td>0.002213</td>\n",
       "    </tr>\n",
       "  </tbody>\n",
       "</table>\n",
       "</div>"
      ],
      "text/plain": [
       "                                  purchased   hit_num  precision    recall   \n",
       "Image\\n(Euclidean)                16.516389  0.152778   0.001528  0.009773  \\\n",
       "Image\\n(Cosine)                   16.516389  0.150556   0.001506  0.009670   \n",
       "Text\\n(Euclidean)                 16.516389  0.223889   0.002239  0.014176   \n",
       "Text\\n(Cosine)                    16.516389  0.217778   0.002178  0.013802   \n",
       "Popularity\\n(All)                 16.516389  0.439444   0.004394  0.028276   \n",
       "Popularity\\n(Product)             16.516389  0.615000   0.012168  0.038638   \n",
       "Popularity\\n(Region)              16.516389  0.376944   0.019923  0.023074   \n",
       "Popularity\\n(Age)                 16.516389  0.429444   0.004306  0.027656   \n",
       "Popularity\\n(Buy Together)        16.516389  0.405278   0.004053  0.025032   \n",
       "Collaborative\\nFiltering          16.516389  0.471944   0.004719  0.030160   \n",
       "Item2Vec\\n(Cluster Popular)       16.516389  0.681389   0.006814  0.042839   \n",
       "Item2Vec\\n(User-Item Similarity)  16.516389  0.316111   0.003161  0.020450   \n",
       "\n",
       "                                  recall_num       map  \n",
       "Image\\n(Euclidean)                100.000000  0.000907  \n",
       "Image\\n(Cosine)                   100.000000  0.000887  \n",
       "Text\\n(Euclidean)                 100.000000  0.002185  \n",
       "Text\\n(Cosine)                    100.000000  0.002003  \n",
       "Popularity\\n(All)                 100.000000  0.002719  \n",
       "Popularity\\n(Product)              53.585000  0.005695  \n",
       "Popularity\\n(Region)               20.876944  0.007122  \n",
       "Popularity\\n(Age)                  99.962222  0.002764  \n",
       "Popularity\\n(Buy Together)         94.725000  0.000834  \n",
       "Collaborative\\nFiltering          100.000000  0.002763  \n",
       "Item2Vec\\n(Cluster Popular)       100.000000  0.004893  \n",
       "Item2Vec\\n(User-Item Similarity)  100.000000  0.002213  "
      ]
     },
     "execution_count": 25,
     "metadata": {},
     "output_type": "execute_result"
    }
   ],
   "source": [
    "pd.DataFrame(eval_result).transpose()"
   ]
  },
  {
   "cell_type": "markdown",
   "metadata": {},
   "source": [
    "# Aggregated Evaluation"
   ]
  },
  {
   "cell_type": "code",
   "execution_count": null,
   "metadata": {},
   "outputs": [],
   "source": [
    "recommendations = {\n",
    "    'Image\\n(Euclidean)': img_euclidean_recommend,\n",
    "    'Image\\n(Cosine)': img_cosine_recommend,\n",
    "    'Text\\n(Euclidean)': txt_euclidean_recommend,\n",
    "    'Text\\n(Cosine)': txt_cosine_recommend,\n",
    "    'Popularity\\n(All)': popularity_all,\n",
    "    'Popularity\\n(Product)': product_code_recommend,\n",
    "    'Popularity\\n(Region)': postal_code_recommend,\n",
    "    'Popularity\\n(Age)': age_group_recommend,\n",
    "    'Popularity\\n(Buy Together)': bought_together_recommend,\n",
    "    'Collaborative\\nFiltering': user_cf_recommend,\n",
    "    'Item2Vec\\n(Cluster Popular)': item2vec_cls_res,\n",
    "    'Item2Vec\\n(User-Item Similarity)': item2vec_sim_res,\n",
    "}"
   ]
  },
  {
   "cell_type": "code",
   "execution_count": 41,
   "metadata": {},
   "outputs": [],
   "source": [
    "import itertools\n",
    "\n",
    "class Aggregate:\n",
    "    def __init__(self, recommend):\n",
    "        self.recommend = recommend\n",
    "        self.aggregate_recommend = []\n",
    "\n",
    "    def register_recall(self, customer_id, purchased, all_items, recall_pipes: dict):\n",
    "        res = {}\n",
    "        # initialize recall dict for all items\n",
    "        for item in all_items:\n",
    "            res[item] = {}\n",
    "            for k in recall_pipes:\n",
    "                res[item][k] = 0\n",
    "                res[item][f\"{k}_score\"] = 0.0\n",
    "                res[item]['purchased'] = int(item in purchased)\n",
    "                res[item]['customer_id'] = customer_id\n",
    "                res[item]['article_id'] = item\n",
    "\n",
    "        for k in recall_pipes:\n",
    "            recalled_num = len(recall_pipes[k])\n",
    "            for i, item in enumerate(recall_pipes[k]):\n",
    "                res[item][k] = 1\n",
    "                res[item][f\"{k}_score\"] = (recalled_num - i) / recalled_num\n",
    "\n",
    "        self.aggregate_recommend.extend(res.values())\n",
    "\n",
    "    def aggregate(self, test_set, train, keys, top_n: int):\n",
    "        purchase_dict = test_set.groupby('customer_id')['article_id'].agg(list)\n",
    "\n",
    "        test_users = set(train['customer_id']).intersection(list(purchase_dict.keys()))\n",
    "\n",
    "        for cid in tqdm(test_users, desc=\"Aggregrating recall results\"):\n",
    "            purchased = purchase_dict[cid]\n",
    "\n",
    "            _res = {k: self.recommend[k][cid][:top_n] for k in keys}\n",
    "\n",
    "            together_recall = set(itertools.chain(*_res.values()))\n",
    "            \n",
    "            self.register_recall(\n",
    "                customer_id=cid,\n",
    "                purchased=purchased,\n",
    "                all_items=together_recall,\n",
    "                recall_pipes=_res\n",
    "            )\n",
    "\n",
    "        aggregated_df = pd.DataFrame(self.aggregate_recommend)\n",
    "\n",
    "        return aggregated_df"
   ]
  },
  {
   "cell_type": "code",
   "execution_count": 42,
   "metadata": {},
   "outputs": [],
   "source": [
    "_recommend = {\n",
    "    'img_euclidean': img_euclidean_recommend,\n",
    "    'img_cosine': img_cosine_recommend,\n",
    "    'txt_euclidean': txt_euclidean_recommend,\n",
    "    'txt_cosine': txt_cosine_recommend,\n",
    "    'popularity_all': popularity_all,\n",
    "    'product_code': product_code_recommend,\n",
    "    'postal_code': postal_code_recommend,\n",
    "    'age_group': age_group_recommend,\n",
    "    'bought_together': bought_together_recommend,\n",
    "    'user_cf': user_cf_recommend,\n",
    "    'item2vec_cls_res': item2vec_cls_res,\n",
    "    'item2vec_sim_res': item2vec_sim_res,\n",
    "}"
   ]
  },
  {
   "cell_type": "code",
   "execution_count": 43,
   "metadata": {},
   "outputs": [],
   "source": [
    "agg = Aggregate(_recommend)"
   ]
  },
  {
   "cell_type": "code",
   "execution_count": 44,
   "metadata": {},
   "outputs": [
    {
     "name": "stderr",
     "output_type": "stream",
     "text": [
      "Aggregrating recall results: 100%|██████████| 3600/3600 [00:44<00:00, 80.51it/s] \n"
     ]
    },
    {
     "data": {
      "text/html": [
       "<div>\n",
       "<style scoped>\n",
       "    .dataframe tbody tr th:only-of-type {\n",
       "        vertical-align: middle;\n",
       "    }\n",
       "\n",
       "    .dataframe tbody tr th {\n",
       "        vertical-align: top;\n",
       "    }\n",
       "\n",
       "    .dataframe thead th {\n",
       "        text-align: right;\n",
       "    }\n",
       "</style>\n",
       "<table border=\"1\" class=\"dataframe\">\n",
       "  <thead>\n",
       "    <tr style=\"text-align: right;\">\n",
       "      <th></th>\n",
       "      <th>img_euclidean</th>\n",
       "      <th>img_euclidean_score</th>\n",
       "      <th>purchased</th>\n",
       "      <th>customer_id</th>\n",
       "      <th>article_id</th>\n",
       "      <th>img_cosine</th>\n",
       "      <th>img_cosine_score</th>\n",
       "      <th>txt_euclidean</th>\n",
       "      <th>txt_euclidean_score</th>\n",
       "      <th>txt_cosine</th>\n",
       "      <th>...</th>\n",
       "      <th>age_group</th>\n",
       "      <th>age_group_score</th>\n",
       "      <th>bought_together</th>\n",
       "      <th>bought_together_score</th>\n",
       "      <th>user_cf</th>\n",
       "      <th>user_cf_score</th>\n",
       "      <th>item2vec_cls_res</th>\n",
       "      <th>item2vec_cls_res_score</th>\n",
       "      <th>item2vec_sim_res</th>\n",
       "      <th>item2vec_sim_res_score</th>\n",
       "    </tr>\n",
       "  </thead>\n",
       "  <tbody>\n",
       "    <tr>\n",
       "      <th>0</th>\n",
       "      <td>0</td>\n",
       "      <td>0.0</td>\n",
       "      <td>0</td>\n",
       "      <td>75b7b5a187b64ea3e9c33f2391467a401f31b1ecbddfd8...</td>\n",
       "      <td>828928001</td>\n",
       "      <td>0</td>\n",
       "      <td>0.0</td>\n",
       "      <td>0</td>\n",
       "      <td>0.00</td>\n",
       "      <td>0</td>\n",
       "      <td>...</td>\n",
       "      <td>0</td>\n",
       "      <td>0.00</td>\n",
       "      <td>0</td>\n",
       "      <td>0.0</td>\n",
       "      <td>0</td>\n",
       "      <td>0.00</td>\n",
       "      <td>1</td>\n",
       "      <td>0.68</td>\n",
       "      <td>0</td>\n",
       "      <td>0.00</td>\n",
       "    </tr>\n",
       "    <tr>\n",
       "      <th>1</th>\n",
       "      <td>0</td>\n",
       "      <td>0.0</td>\n",
       "      <td>0</td>\n",
       "      <td>75b7b5a187b64ea3e9c33f2391467a401f31b1ecbddfd8...</td>\n",
       "      <td>651690001</td>\n",
       "      <td>0</td>\n",
       "      <td>0.0</td>\n",
       "      <td>1</td>\n",
       "      <td>0.62</td>\n",
       "      <td>1</td>\n",
       "      <td>...</td>\n",
       "      <td>0</td>\n",
       "      <td>0.00</td>\n",
       "      <td>0</td>\n",
       "      <td>0.0</td>\n",
       "      <td>0</td>\n",
       "      <td>0.00</td>\n",
       "      <td>0</td>\n",
       "      <td>0.00</td>\n",
       "      <td>0</td>\n",
       "      <td>0.00</td>\n",
       "    </tr>\n",
       "    <tr>\n",
       "      <th>2</th>\n",
       "      <td>0</td>\n",
       "      <td>0.0</td>\n",
       "      <td>0</td>\n",
       "      <td>75b7b5a187b64ea3e9c33f2391467a401f31b1ecbddfd8...</td>\n",
       "      <td>824490001</td>\n",
       "      <td>0</td>\n",
       "      <td>0.0</td>\n",
       "      <td>0</td>\n",
       "      <td>0.00</td>\n",
       "      <td>0</td>\n",
       "      <td>...</td>\n",
       "      <td>0</td>\n",
       "      <td>0.00</td>\n",
       "      <td>0</td>\n",
       "      <td>0.0</td>\n",
       "      <td>0</td>\n",
       "      <td>0.00</td>\n",
       "      <td>1</td>\n",
       "      <td>0.05</td>\n",
       "      <td>0</td>\n",
       "      <td>0.00</td>\n",
       "    </tr>\n",
       "    <tr>\n",
       "      <th>3</th>\n",
       "      <td>0</td>\n",
       "      <td>0.0</td>\n",
       "      <td>0</td>\n",
       "      <td>75b7b5a187b64ea3e9c33f2391467a401f31b1ecbddfd8...</td>\n",
       "      <td>719530003</td>\n",
       "      <td>0</td>\n",
       "      <td>0.0</td>\n",
       "      <td>0</td>\n",
       "      <td>0.00</td>\n",
       "      <td>0</td>\n",
       "      <td>...</td>\n",
       "      <td>1</td>\n",
       "      <td>0.13</td>\n",
       "      <td>0</td>\n",
       "      <td>0.0</td>\n",
       "      <td>0</td>\n",
       "      <td>0.00</td>\n",
       "      <td>0</td>\n",
       "      <td>0.00</td>\n",
       "      <td>1</td>\n",
       "      <td>0.90</td>\n",
       "    </tr>\n",
       "    <tr>\n",
       "      <th>4</th>\n",
       "      <td>0</td>\n",
       "      <td>0.0</td>\n",
       "      <td>0</td>\n",
       "      <td>75b7b5a187b64ea3e9c33f2391467a401f31b1ecbddfd8...</td>\n",
       "      <td>724906006</td>\n",
       "      <td>0</td>\n",
       "      <td>0.0</td>\n",
       "      <td>1</td>\n",
       "      <td>0.08</td>\n",
       "      <td>1</td>\n",
       "      <td>...</td>\n",
       "      <td>0</td>\n",
       "      <td>0.00</td>\n",
       "      <td>0</td>\n",
       "      <td>0.0</td>\n",
       "      <td>0</td>\n",
       "      <td>0.00</td>\n",
       "      <td>0</td>\n",
       "      <td>0.00</td>\n",
       "      <td>0</td>\n",
       "      <td>0.00</td>\n",
       "    </tr>\n",
       "    <tr>\n",
       "      <th>...</th>\n",
       "      <td>...</td>\n",
       "      <td>...</td>\n",
       "      <td>...</td>\n",
       "      <td>...</td>\n",
       "      <td>...</td>\n",
       "      <td>...</td>\n",
       "      <td>...</td>\n",
       "      <td>...</td>\n",
       "      <td>...</td>\n",
       "      <td>...</td>\n",
       "      <td>...</td>\n",
       "      <td>...</td>\n",
       "      <td>...</td>\n",
       "      <td>...</td>\n",
       "      <td>...</td>\n",
       "      <td>...</td>\n",
       "      <td>...</td>\n",
       "      <td>...</td>\n",
       "      <td>...</td>\n",
       "      <td>...</td>\n",
       "      <td>...</td>\n",
       "    </tr>\n",
       "    <tr>\n",
       "      <th>2319500</th>\n",
       "      <td>0</td>\n",
       "      <td>0.0</td>\n",
       "      <td>0</td>\n",
       "      <td>40f2034873b58fb4a5adc1def3982a31a20762804fbaec...</td>\n",
       "      <td>587137009</td>\n",
       "      <td>0</td>\n",
       "      <td>0.0</td>\n",
       "      <td>0</td>\n",
       "      <td>0.00</td>\n",
       "      <td>0</td>\n",
       "      <td>...</td>\n",
       "      <td>0</td>\n",
       "      <td>0.00</td>\n",
       "      <td>0</td>\n",
       "      <td>0.0</td>\n",
       "      <td>0</td>\n",
       "      <td>0.00</td>\n",
       "      <td>0</td>\n",
       "      <td>0.00</td>\n",
       "      <td>1</td>\n",
       "      <td>0.68</td>\n",
       "    </tr>\n",
       "    <tr>\n",
       "      <th>2319501</th>\n",
       "      <td>0</td>\n",
       "      <td>0.0</td>\n",
       "      <td>0</td>\n",
       "      <td>40f2034873b58fb4a5adc1def3982a31a20762804fbaec...</td>\n",
       "      <td>829014002</td>\n",
       "      <td>0</td>\n",
       "      <td>0.0</td>\n",
       "      <td>0</td>\n",
       "      <td>0.00</td>\n",
       "      <td>0</td>\n",
       "      <td>...</td>\n",
       "      <td>0</td>\n",
       "      <td>0.00</td>\n",
       "      <td>0</td>\n",
       "      <td>0.0</td>\n",
       "      <td>1</td>\n",
       "      <td>0.92</td>\n",
       "      <td>0</td>\n",
       "      <td>0.00</td>\n",
       "      <td>0</td>\n",
       "      <td>0.00</td>\n",
       "    </tr>\n",
       "    <tr>\n",
       "      <th>2319502</th>\n",
       "      <td>0</td>\n",
       "      <td>0.0</td>\n",
       "      <td>0</td>\n",
       "      <td>40f2034873b58fb4a5adc1def3982a31a20762804fbaec...</td>\n",
       "      <td>733782005</td>\n",
       "      <td>0</td>\n",
       "      <td>0.0</td>\n",
       "      <td>0</td>\n",
       "      <td>0.00</td>\n",
       "      <td>0</td>\n",
       "      <td>...</td>\n",
       "      <td>0</td>\n",
       "      <td>0.00</td>\n",
       "      <td>0</td>\n",
       "      <td>0.0</td>\n",
       "      <td>0</td>\n",
       "      <td>0.00</td>\n",
       "      <td>0</td>\n",
       "      <td>0.00</td>\n",
       "      <td>1</td>\n",
       "      <td>0.53</td>\n",
       "    </tr>\n",
       "    <tr>\n",
       "      <th>2319503</th>\n",
       "      <td>0</td>\n",
       "      <td>0.0</td>\n",
       "      <td>0</td>\n",
       "      <td>40f2034873b58fb4a5adc1def3982a31a20762804fbaec...</td>\n",
       "      <td>855851001</td>\n",
       "      <td>0</td>\n",
       "      <td>0.0</td>\n",
       "      <td>0</td>\n",
       "      <td>0.00</td>\n",
       "      <td>0</td>\n",
       "      <td>...</td>\n",
       "      <td>0</td>\n",
       "      <td>0.00</td>\n",
       "      <td>0</td>\n",
       "      <td>0.0</td>\n",
       "      <td>0</td>\n",
       "      <td>0.00</td>\n",
       "      <td>1</td>\n",
       "      <td>0.28</td>\n",
       "      <td>0</td>\n",
       "      <td>0.00</td>\n",
       "    </tr>\n",
       "    <tr>\n",
       "      <th>2319504</th>\n",
       "      <td>0</td>\n",
       "      <td>0.0</td>\n",
       "      <td>0</td>\n",
       "      <td>40f2034873b58fb4a5adc1def3982a31a20762804fbaec...</td>\n",
       "      <td>810838010</td>\n",
       "      <td>0</td>\n",
       "      <td>0.0</td>\n",
       "      <td>1</td>\n",
       "      <td>0.23</td>\n",
       "      <td>0</td>\n",
       "      <td>...</td>\n",
       "      <td>0</td>\n",
       "      <td>0.00</td>\n",
       "      <td>0</td>\n",
       "      <td>0.0</td>\n",
       "      <td>0</td>\n",
       "      <td>0.00</td>\n",
       "      <td>0</td>\n",
       "      <td>0.00</td>\n",
       "      <td>0</td>\n",
       "      <td>0.00</td>\n",
       "    </tr>\n",
       "  </tbody>\n",
       "</table>\n",
       "<p>2319505 rows × 27 columns</p>\n",
       "</div>"
      ],
      "text/plain": [
       "         img_euclidean  img_euclidean_score  purchased   \n",
       "0                    0                  0.0          0  \\\n",
       "1                    0                  0.0          0   \n",
       "2                    0                  0.0          0   \n",
       "3                    0                  0.0          0   \n",
       "4                    0                  0.0          0   \n",
       "...                ...                  ...        ...   \n",
       "2319500              0                  0.0          0   \n",
       "2319501              0                  0.0          0   \n",
       "2319502              0                  0.0          0   \n",
       "2319503              0                  0.0          0   \n",
       "2319504              0                  0.0          0   \n",
       "\n",
       "                                               customer_id  article_id   \n",
       "0        75b7b5a187b64ea3e9c33f2391467a401f31b1ecbddfd8...   828928001  \\\n",
       "1        75b7b5a187b64ea3e9c33f2391467a401f31b1ecbddfd8...   651690001   \n",
       "2        75b7b5a187b64ea3e9c33f2391467a401f31b1ecbddfd8...   824490001   \n",
       "3        75b7b5a187b64ea3e9c33f2391467a401f31b1ecbddfd8...   719530003   \n",
       "4        75b7b5a187b64ea3e9c33f2391467a401f31b1ecbddfd8...   724906006   \n",
       "...                                                    ...         ...   \n",
       "2319500  40f2034873b58fb4a5adc1def3982a31a20762804fbaec...   587137009   \n",
       "2319501  40f2034873b58fb4a5adc1def3982a31a20762804fbaec...   829014002   \n",
       "2319502  40f2034873b58fb4a5adc1def3982a31a20762804fbaec...   733782005   \n",
       "2319503  40f2034873b58fb4a5adc1def3982a31a20762804fbaec...   855851001   \n",
       "2319504  40f2034873b58fb4a5adc1def3982a31a20762804fbaec...   810838010   \n",
       "\n",
       "         img_cosine  img_cosine_score  txt_euclidean  txt_euclidean_score   \n",
       "0                 0               0.0              0                 0.00  \\\n",
       "1                 0               0.0              1                 0.62   \n",
       "2                 0               0.0              0                 0.00   \n",
       "3                 0               0.0              0                 0.00   \n",
       "4                 0               0.0              1                 0.08   \n",
       "...             ...               ...            ...                  ...   \n",
       "2319500           0               0.0              0                 0.00   \n",
       "2319501           0               0.0              0                 0.00   \n",
       "2319502           0               0.0              0                 0.00   \n",
       "2319503           0               0.0              0                 0.00   \n",
       "2319504           0               0.0              1                 0.23   \n",
       "\n",
       "         txt_cosine  ...  age_group  age_group_score  bought_together   \n",
       "0                 0  ...          0             0.00                0  \\\n",
       "1                 1  ...          0             0.00                0   \n",
       "2                 0  ...          0             0.00                0   \n",
       "3                 0  ...          1             0.13                0   \n",
       "4                 1  ...          0             0.00                0   \n",
       "...             ...  ...        ...              ...              ...   \n",
       "2319500           0  ...          0             0.00                0   \n",
       "2319501           0  ...          0             0.00                0   \n",
       "2319502           0  ...          0             0.00                0   \n",
       "2319503           0  ...          0             0.00                0   \n",
       "2319504           0  ...          0             0.00                0   \n",
       "\n",
       "         bought_together_score  user_cf  user_cf_score  item2vec_cls_res   \n",
       "0                          0.0        0           0.00                 1  \\\n",
       "1                          0.0        0           0.00                 0   \n",
       "2                          0.0        0           0.00                 1   \n",
       "3                          0.0        0           0.00                 0   \n",
       "4                          0.0        0           0.00                 0   \n",
       "...                        ...      ...            ...               ...   \n",
       "2319500                    0.0        0           0.00                 0   \n",
       "2319501                    0.0        1           0.92                 0   \n",
       "2319502                    0.0        0           0.00                 0   \n",
       "2319503                    0.0        0           0.00                 1   \n",
       "2319504                    0.0        0           0.00                 0   \n",
       "\n",
       "         item2vec_cls_res_score  item2vec_sim_res  item2vec_sim_res_score  \n",
       "0                          0.68                 0                    0.00  \n",
       "1                          0.00                 0                    0.00  \n",
       "2                          0.05                 0                    0.00  \n",
       "3                          0.00                 1                    0.90  \n",
       "4                          0.00                 0                    0.00  \n",
       "...                         ...               ...                     ...  \n",
       "2319500                    0.00                 1                    0.68  \n",
       "2319501                    0.00                 0                    0.00  \n",
       "2319502                    0.00                 1                    0.53  \n",
       "2319503                    0.28                 0                    0.00  \n",
       "2319504                    0.00                 0                    0.00  \n",
       "\n",
       "[2319505 rows x 27 columns]"
      ]
     },
     "execution_count": 44,
     "metadata": {},
     "output_type": "execute_result"
    }
   ],
   "source": [
    "agg.aggregate(\n",
    "    test_set=pd.concat([loyal_user_test, regular_user_test]),\n",
    "    train=train,\n",
    "    keys=list(_recommend.keys()),\n",
    "    top_n=recall_top_n\n",
    ")"
   ]
  },
  {
   "cell_type": "code",
   "execution_count": null,
   "metadata": {},
   "outputs": [],
   "source": []
  }
 ],
 "metadata": {
  "kernelspec": {
   "display_name": "ddm",
   "language": "python",
   "name": "python3"
  },
  "language_info": {
   "codemirror_mode": {
    "name": "ipython",
    "version": 3
   },
   "file_extension": ".py",
   "mimetype": "text/x-python",
   "name": "python",
   "nbconvert_exporter": "python",
   "pygments_lexer": "ipython3",
   "version": "3.9.18"
  }
 },
 "nbformat": 4,
 "nbformat_minor": 2
}
